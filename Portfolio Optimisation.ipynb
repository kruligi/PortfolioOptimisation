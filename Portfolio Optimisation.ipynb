{
 "cells": [
  {
   "cell_type": "markdown",
   "id": "3b5cbef9",
   "metadata": {},
   "source": [
    "### Portfolio Optimisation Using Python (Using the Efficient Frontier)"
   ]
  },
  {
   "cell_type": "code",
   "execution_count": 1,
   "id": "8519ffdd",
   "metadata": {},
   "outputs": [],
   "source": [
    "#Importing libraries\n",
    "import pandas as pd\n",
    "from pandas_datareader import data as web\n",
    "import numpy as np\n",
    "from datetime import datetime\n",
    "import matplotlib.pyplot as plt\n",
    "plt.style.use('fivethirtyeight')\n",
    "%matplotlib inline"
   ]
  },
  {
   "cell_type": "code",
   "execution_count": 2,
   "id": "91328f00",
   "metadata": {},
   "outputs": [],
   "source": [
    "#Getting the tickers\n",
    "assets = ['FB','AMZN','AAPL','NFLX','GOOG']"
   ]
  },
  {
   "cell_type": "code",
   "execution_count": 3,
   "id": "804bc22a",
   "metadata": {},
   "outputs": [],
   "source": [
    "#Assigning weights to the stocks\n",
    "weights = np.array([0.2,0.2,0.2,0.2,0.2])"
   ]
  },
  {
   "cell_type": "code",
   "execution_count": 4,
   "id": "f9d26a5d",
   "metadata": {},
   "outputs": [
    {
     "data": {
      "text/plain": [
       "'2022-05-21'"
      ]
     },
     "execution_count": 4,
     "metadata": {},
     "output_type": "execute_result"
    }
   ],
   "source": [
    "#Setting the starting and ending dates\n",
    "startdate = '2013-01-01'\n",
    "enddate = datetime.today().strftime('%Y-%m-%d')\n",
    "enddate"
   ]
  },
  {
   "cell_type": "code",
   "execution_count": 5,
   "id": "8102f435",
   "metadata": {},
   "outputs": [],
   "source": [
    "#Dataframe containing the adjusted close price of the stocks\n",
    "df = pd.DataFrame()\n",
    "\n",
    "for stock in assets:\n",
    "    df[stock] = web.DataReader(stock, data_source='yahoo', start = startdate, end = enddate)['Adj Close']"
   ]
  },
  {
   "cell_type": "code",
   "execution_count": 6,
   "id": "86276a28",
   "metadata": {},
   "outputs": [
    {
     "data": {
      "text/html": [
       "<div>\n",
       "<style scoped>\n",
       "    .dataframe tbody tr th:only-of-type {\n",
       "        vertical-align: middle;\n",
       "    }\n",
       "\n",
       "    .dataframe tbody tr th {\n",
       "        vertical-align: top;\n",
       "    }\n",
       "\n",
       "    .dataframe thead th {\n",
       "        text-align: right;\n",
       "    }\n",
       "</style>\n",
       "<table border=\"1\" class=\"dataframe\">\n",
       "  <thead>\n",
       "    <tr style=\"text-align: right;\">\n",
       "      <th></th>\n",
       "      <th>FB</th>\n",
       "      <th>AMZN</th>\n",
       "      <th>AAPL</th>\n",
       "      <th>NFLX</th>\n",
       "      <th>GOOG</th>\n",
       "    </tr>\n",
       "    <tr>\n",
       "      <th>Date</th>\n",
       "      <th></th>\n",
       "      <th></th>\n",
       "      <th></th>\n",
       "      <th></th>\n",
       "      <th></th>\n",
       "    </tr>\n",
       "  </thead>\n",
       "  <tbody>\n",
       "    <tr>\n",
       "      <th>2012-12-31</th>\n",
       "      <td>26.620001</td>\n",
       "      <td>250.869995</td>\n",
       "      <td>16.394844</td>\n",
       "      <td>13.227143</td>\n",
       "      <td>352.369232</td>\n",
       "    </tr>\n",
       "    <tr>\n",
       "      <th>2013-01-02</th>\n",
       "      <td>28.000000</td>\n",
       "      <td>257.309998</td>\n",
       "      <td>16.914265</td>\n",
       "      <td>13.144286</td>\n",
       "      <td>360.274597</td>\n",
       "    </tr>\n",
       "    <tr>\n",
       "      <th>2013-01-03</th>\n",
       "      <td>27.770000</td>\n",
       "      <td>258.480011</td>\n",
       "      <td>16.700769</td>\n",
       "      <td>13.798571</td>\n",
       "      <td>360.483826</td>\n",
       "    </tr>\n",
       "    <tr>\n",
       "      <th>2013-01-04</th>\n",
       "      <td>28.760000</td>\n",
       "      <td>259.149994</td>\n",
       "      <td>16.235563</td>\n",
       "      <td>13.711429</td>\n",
       "      <td>367.607117</td>\n",
       "    </tr>\n",
       "    <tr>\n",
       "      <th>2013-01-07</th>\n",
       "      <td>29.420000</td>\n",
       "      <td>268.459991</td>\n",
       "      <td>16.140068</td>\n",
       "      <td>14.171429</td>\n",
       "      <td>366.003143</td>\n",
       "    </tr>\n",
       "    <tr>\n",
       "      <th>...</th>\n",
       "      <td>...</td>\n",
       "      <td>...</td>\n",
       "      <td>...</td>\n",
       "      <td>...</td>\n",
       "      <td>...</td>\n",
       "    </tr>\n",
       "    <tr>\n",
       "      <th>2022-05-16</th>\n",
       "      <td>200.039993</td>\n",
       "      <td>2216.209961</td>\n",
       "      <td>145.539993</td>\n",
       "      <td>186.509995</td>\n",
       "      <td>2295.850098</td>\n",
       "    </tr>\n",
       "    <tr>\n",
       "      <th>2022-05-17</th>\n",
       "      <td>202.619995</td>\n",
       "      <td>2307.370117</td>\n",
       "      <td>149.240005</td>\n",
       "      <td>190.559998</td>\n",
       "      <td>2334.030029</td>\n",
       "    </tr>\n",
       "    <tr>\n",
       "      <th>2022-05-18</th>\n",
       "      <td>192.240005</td>\n",
       "      <td>2142.250000</td>\n",
       "      <td>140.820007</td>\n",
       "      <td>177.190002</td>\n",
       "      <td>2248.020020</td>\n",
       "    </tr>\n",
       "    <tr>\n",
       "      <th>2022-05-19</th>\n",
       "      <td>191.289993</td>\n",
       "      <td>2146.379883</td>\n",
       "      <td>137.350006</td>\n",
       "      <td>183.479996</td>\n",
       "      <td>2214.909912</td>\n",
       "    </tr>\n",
       "    <tr>\n",
       "      <th>2022-05-20</th>\n",
       "      <td>193.539993</td>\n",
       "      <td>2151.820068</td>\n",
       "      <td>137.589996</td>\n",
       "      <td>186.350006</td>\n",
       "      <td>2186.260010</td>\n",
       "    </tr>\n",
       "  </tbody>\n",
       "</table>\n",
       "<p>2365 rows × 5 columns</p>\n",
       "</div>"
      ],
      "text/plain": [
       "                    FB         AMZN        AAPL        NFLX         GOOG\n",
       "Date                                                                    \n",
       "2012-12-31   26.620001   250.869995   16.394844   13.227143   352.369232\n",
       "2013-01-02   28.000000   257.309998   16.914265   13.144286   360.274597\n",
       "2013-01-03   27.770000   258.480011   16.700769   13.798571   360.483826\n",
       "2013-01-04   28.760000   259.149994   16.235563   13.711429   367.607117\n",
       "2013-01-07   29.420000   268.459991   16.140068   14.171429   366.003143\n",
       "...                ...          ...         ...         ...          ...\n",
       "2022-05-16  200.039993  2216.209961  145.539993  186.509995  2295.850098\n",
       "2022-05-17  202.619995  2307.370117  149.240005  190.559998  2334.030029\n",
       "2022-05-18  192.240005  2142.250000  140.820007  177.190002  2248.020020\n",
       "2022-05-19  191.289993  2146.379883  137.350006  183.479996  2214.909912\n",
       "2022-05-20  193.539993  2151.820068  137.589996  186.350006  2186.260010\n",
       "\n",
       "[2365 rows x 5 columns]"
      ]
     },
     "execution_count": 6,
     "metadata": {},
     "output_type": "execute_result"
    }
   ],
   "source": [
    " df"
   ]
  },
  {
   "cell_type": "code",
   "execution_count": 7,
   "id": "c625ebab",
   "metadata": {},
   "outputs": [
    {
     "data": {
      "image/png": "[encoded data removed]",
      "text/plain": [
       "<Figure size 432x288 with 1 Axes>"
      ]
     },
     "metadata": {
      "needs_background": "light"
     },
     "output_type": "display_data"
    }
   ],
   "source": [
    "#Visualising the stock performance\n",
    "for stocks in df.columns.values:\n",
    "    plt.plot(df[stocks],label=stocks)\n",
    "\n",
    "plt.title(label='Historical Adjusted Close')\n",
    "plt.xlabel('Date', fontsize = 14)\n",
    "plt.ylabel('Adj. Price (in $)', fontsize = 14)\n",
    "plt.legend(df.columns.values, loc = 'upper left')\n",
    "plt.show()"
   ]
  },
  {
   "cell_type": "code",
   "execution_count": 8,
   "id": "8dfe1967",
   "metadata": {},
   "outputs": [
    {
     "data": {
      "text/html": [
       "<div>\n",
       "<style scoped>\n",
       "    .dataframe tbody tr th:only-of-type {\n",
       "        vertical-align: middle;\n",
       "    }\n",
       "\n",
       "    .dataframe tbody tr th {\n",
       "        vertical-align: top;\n",
       "    }\n",
       "\n",
       "    .dataframe thead th {\n",
       "        text-align: right;\n",
       "    }\n",
       "</style>\n",
       "<table border=\"1\" class=\"dataframe\">\n",
       "  <thead>\n",
       "    <tr style=\"text-align: right;\">\n",
       "      <th></th>\n",
       "      <th>FB</th>\n",
       "      <th>AMZN</th>\n",
       "      <th>AAPL</th>\n",
       "      <th>NFLX</th>\n",
       "      <th>GOOG</th>\n",
       "    </tr>\n",
       "    <tr>\n",
       "      <th>Date</th>\n",
       "      <th></th>\n",
       "      <th></th>\n",
       "      <th></th>\n",
       "      <th></th>\n",
       "      <th></th>\n",
       "    </tr>\n",
       "  </thead>\n",
       "  <tbody>\n",
       "    <tr>\n",
       "      <th>2012-12-31</th>\n",
       "      <td>NaN</td>\n",
       "      <td>NaN</td>\n",
       "      <td>NaN</td>\n",
       "      <td>NaN</td>\n",
       "      <td>NaN</td>\n",
       "    </tr>\n",
       "    <tr>\n",
       "      <th>2013-01-02</th>\n",
       "      <td>0.051841</td>\n",
       "      <td>0.025671</td>\n",
       "      <td>0.031682</td>\n",
       "      <td>-0.006264</td>\n",
       "      <td>0.022435</td>\n",
       "    </tr>\n",
       "    <tr>\n",
       "      <th>2013-01-03</th>\n",
       "      <td>-0.008214</td>\n",
       "      <td>0.004547</td>\n",
       "      <td>-0.012622</td>\n",
       "      <td>0.049777</td>\n",
       "      <td>0.000581</td>\n",
       "    </tr>\n",
       "    <tr>\n",
       "      <th>2013-01-04</th>\n",
       "      <td>0.035650</td>\n",
       "      <td>0.002592</td>\n",
       "      <td>-0.027855</td>\n",
       "      <td>-0.006315</td>\n",
       "      <td>0.019760</td>\n",
       "    </tr>\n",
       "    <tr>\n",
       "      <th>2013-01-07</th>\n",
       "      <td>0.022949</td>\n",
       "      <td>0.035925</td>\n",
       "      <td>-0.005882</td>\n",
       "      <td>0.033549</td>\n",
       "      <td>-0.004363</td>\n",
       "    </tr>\n",
       "    <tr>\n",
       "      <th>...</th>\n",
       "      <td>...</td>\n",
       "      <td>...</td>\n",
       "      <td>...</td>\n",
       "      <td>...</td>\n",
       "      <td>...</td>\n",
       "    </tr>\n",
       "    <tr>\n",
       "      <th>2022-05-16</th>\n",
       "      <td>0.007149</td>\n",
       "      <td>-0.019853</td>\n",
       "      <td>-0.010672</td>\n",
       "      <td>-0.006022</td>\n",
       "      <td>-0.014788</td>\n",
       "    </tr>\n",
       "    <tr>\n",
       "      <th>2022-05-17</th>\n",
       "      <td>0.012897</td>\n",
       "      <td>0.041133</td>\n",
       "      <td>0.025423</td>\n",
       "      <td>0.021715</td>\n",
       "      <td>0.016630</td>\n",
       "    </tr>\n",
       "    <tr>\n",
       "      <th>2022-05-18</th>\n",
       "      <td>-0.051229</td>\n",
       "      <td>-0.071562</td>\n",
       "      <td>-0.056419</td>\n",
       "      <td>-0.070162</td>\n",
       "      <td>-0.036850</td>\n",
       "    </tr>\n",
       "    <tr>\n",
       "      <th>2022-05-19</th>\n",
       "      <td>-0.004942</td>\n",
       "      <td>0.001928</td>\n",
       "      <td>-0.024641</td>\n",
       "      <td>0.035499</td>\n",
       "      <td>-0.014729</td>\n",
       "    </tr>\n",
       "    <tr>\n",
       "      <th>2022-05-20</th>\n",
       "      <td>0.011762</td>\n",
       "      <td>0.002535</td>\n",
       "      <td>0.001747</td>\n",
       "      <td>0.015642</td>\n",
       "      <td>-0.012935</td>\n",
       "    </tr>\n",
       "  </tbody>\n",
       "</table>\n",
       "<p>2365 rows × 5 columns</p>\n",
       "</div>"
      ],
      "text/plain": [
       "                  FB      AMZN      AAPL      NFLX      GOOG\n",
       "Date                                                        \n",
       "2012-12-31       NaN       NaN       NaN       NaN       NaN\n",
       "2013-01-02  0.051841  0.025671  0.031682 -0.006264  0.022435\n",
       "2013-01-03 -0.008214  0.004547 -0.012622  0.049777  0.000581\n",
       "2013-01-04  0.035650  0.002592 -0.027855 -0.006315  0.019760\n",
       "2013-01-07  0.022949  0.035925 -0.005882  0.033549 -0.004363\n",
       "...              ...       ...       ...       ...       ...\n",
       "2022-05-16  0.007149 -0.019853 -0.010672 -0.006022 -0.014788\n",
       "2022-05-17  0.012897  0.041133  0.025423  0.021715  0.016630\n",
       "2022-05-18 -0.051229 -0.071562 -0.056419 -0.070162 -0.036850\n",
       "2022-05-19 -0.004942  0.001928 -0.024641  0.035499 -0.014729\n",
       "2022-05-20  0.011762  0.002535  0.001747  0.015642 -0.012935\n",
       "\n",
       "[2365 rows x 5 columns]"
      ]
     },
     "execution_count": 8,
     "metadata": {},
     "output_type": "execute_result"
    }
   ],
   "source": [
    "daily_returns = df.pct_change()\n",
    "daily_returns"
   ]
  },
  {
   "cell_type": "code",
   "execution_count": 9,
   "id": "7b239a10",
   "metadata": {},
   "outputs": [
    {
     "data": {
      "text/html": [
       "<div>\n",
       "<style scoped>\n",
       "    .dataframe tbody tr th:only-of-type {\n",
       "        vertical-align: middle;\n",
       "    }\n",
       "\n",
       "    .dataframe tbody tr th {\n",
       "        vertical-align: top;\n",
       "    }\n",
       "\n",
       "    .dataframe thead th {\n",
       "        text-align: right;\n",
       "    }\n",
       "</style>\n",
       "<table border=\"1\" class=\"dataframe\">\n",
       "  <thead>\n",
       "    <tr style=\"text-align: right;\">\n",
       "      <th></th>\n",
       "      <th>FB</th>\n",
       "      <th>AMZN</th>\n",
       "      <th>AAPL</th>\n",
       "      <th>NFLX</th>\n",
       "      <th>GOOG</th>\n",
       "    </tr>\n",
       "  </thead>\n",
       "  <tbody>\n",
       "    <tr>\n",
       "      <th>FB</th>\n",
       "      <td>0.130396</td>\n",
       "      <td>0.060309</td>\n",
       "      <td>0.048199</td>\n",
       "      <td>0.066508</td>\n",
       "      <td>0.054481</td>\n",
       "    </tr>\n",
       "    <tr>\n",
       "      <th>AMZN</th>\n",
       "      <td>0.060309</td>\n",
       "      <td>0.098479</td>\n",
       "      <td>0.043081</td>\n",
       "      <td>0.068409</td>\n",
       "      <td>0.049779</td>\n",
       "    </tr>\n",
       "    <tr>\n",
       "      <th>AAPL</th>\n",
       "      <td>0.048199</td>\n",
       "      <td>0.043081</td>\n",
       "      <td>0.081497</td>\n",
       "      <td>0.038785</td>\n",
       "      <td>0.040497</td>\n",
       "    </tr>\n",
       "    <tr>\n",
       "      <th>NFLX</th>\n",
       "      <td>0.066508</td>\n",
       "      <td>0.068409</td>\n",
       "      <td>0.038785</td>\n",
       "      <td>0.222017</td>\n",
       "      <td>0.051400</td>\n",
       "    </tr>\n",
       "    <tr>\n",
       "      <th>GOOG</th>\n",
       "      <td>0.054481</td>\n",
       "      <td>0.049779</td>\n",
       "      <td>0.040497</td>\n",
       "      <td>0.051400</td>\n",
       "      <td>0.067786</td>\n",
       "    </tr>\n",
       "  </tbody>\n",
       "</table>\n",
       "</div>"
      ],
      "text/plain": [
       "            FB      AMZN      AAPL      NFLX      GOOG\n",
       "FB    0.130396  0.060309  0.048199  0.066508  0.054481\n",
       "AMZN  0.060309  0.098479  0.043081  0.068409  0.049779\n",
       "AAPL  0.048199  0.043081  0.081497  0.038785  0.040497\n",
       "NFLX  0.066508  0.068409  0.038785  0.222017  0.051400\n",
       "GOOG  0.054481  0.049779  0.040497  0.051400  0.067786"
      ]
     },
     "execution_count": 9,
     "metadata": {},
     "output_type": "execute_result"
    }
   ],
   "source": [
    "#Determining the relationship between the movement of the assets on each other\n",
    "#Creating the annualised covariance matrix\n",
    "cov_matrix_annual = daily_returns.cov() * 252 #(number of trading days in the year)\n",
    "cov_matrix_annual"
   ]
  },
  {
   "cell_type": "code",
   "execution_count": 10,
   "id": "9c5367df",
   "metadata": {},
   "outputs": [
    {
     "data": {
      "text/plain": [
       "0.06572281350241975"
      ]
     },
     "execution_count": 10,
     "metadata": {},
     "output_type": "execute_result"
    }
   ],
   "source": [
    "#Calculating the portfolio variance\n",
    "port_variance = np.dot(weights.T, np.dot(cov_matrix_annual, weights))\n",
    "port_variance"
   ]
  },
  {
   "cell_type": "code",
   "execution_count": 11,
   "id": "67c0b068",
   "metadata": {},
   "outputs": [
    {
     "data": {
      "text/plain": [
       "0.25636461047192094"
      ]
     },
     "execution_count": 11,
     "metadata": {},
     "output_type": "execute_result"
    }
   ],
   "source": [
    "#Calculating the portfolio volatality (standard deviation)\n",
    "port_volatality = np.sqrt(port_variance)\n",
    "port_volatality"
   ]
  },
  {
   "cell_type": "code",
   "execution_count": 12,
   "id": "b6c4593d",
   "metadata": {},
   "outputs": [
    {
     "data": {
      "text/plain": [
       "0.28870916455274104"
      ]
     },
     "execution_count": 12,
     "metadata": {},
     "output_type": "execute_result"
    }
   ],
   "source": [
    "#Annual porfolio returns\n",
    "portannualreturns= np.sum(daily_returns.mean()*weights*252)\n",
    "portannualreturns"
   ]
  },
  {
   "cell_type": "code",
   "execution_count": 13,
   "id": "457c4493",
   "metadata": {},
   "outputs": [
    {
     "name": "stdout",
     "output_type": "stream",
     "text": [
      "Expected Annual Return: 28.9%\n",
      "Annual Volatility/Risk: 25.6%\n",
      "Annual Variance: 6.572%\n"
     ]
    }
   ],
   "source": [
    "#Showing the metrics [annual return, volatality (risk) & variance]\n",
    "\n",
    "percent_var = str( round (port_variance, 5)*100) + '%'\n",
    "percent_vol = str(round(port_volatality, 3)*100) + '%'\n",
    "percent_return = str(round(portannualreturns, 3)*100) + '%'\n",
    "\n",
    "print(f'Expected Annual Return: {percent_return}')\n",
    "print(f'Annual Volatility/Risk: {percent_vol}')\n",
    "print(f'Annual Variance: {percent_var}')"
   ]
  },
  {
   "cell_type": "code",
   "execution_count": 14,
   "id": "c60ab741",
   "metadata": {},
   "outputs": [
    {
     "name": "stdout",
     "output_type": "stream",
     "text": [
      "Requirement already satisfied: PyPortfolioOpt in c:\\users\\shashwat\\anaconda3\\lib\\site-packages (1.5.2)\n",
      "Requirement already satisfied: cvxpy<2.0.0,>=1.1.10 in c:\\users\\shashwat\\anaconda3\\lib\\site-packages (from PyPortfolioOpt) (1.2.1)\n",
      "Requirement already satisfied: numpy<2.0,>=1.12 in c:\\users\\shashwat\\anaconda3\\lib\\site-packages (from PyPortfolioOpt) (1.20.1)\n",
      "Requirement already satisfied: pandas>=0.19 in c:\\users\\shashwat\\anaconda3\\lib\\site-packages (from PyPortfolioOpt) (1.2.4)\n",
      "Requirement already satisfied: scipy<2.0,>=1.3 in c:\\users\\shashwat\\anaconda3\\lib\\site-packages (from PyPortfolioOpt) (1.6.2)\n",
      "Requirement already satisfied: scs>=1.1.6 in c:\\users\\shashwat\\anaconda3\\lib\\site-packages (from cvxpy<2.0.0,>=1.1.10->PyPortfolioOpt) (3.2.0)\n",
      "Requirement already satisfied: ecos>=2 in c:\\users\\shashwat\\anaconda3\\lib\\site-packages (from cvxpy<2.0.0,>=1.1.10->PyPortfolioOpt) (2.0.10)\n",
      "Requirement already satisfied: osqp>=0.4.1 in c:\\users\\shashwat\\anaconda3\\lib\\site-packages (from cvxpy<2.0.0,>=1.1.10->PyPortfolioOpt) (0.6.2.post5)\n",
      "Requirement already satisfied: qdldl in c:\\users\\shashwat\\anaconda3\\lib\\site-packages (from osqp>=0.4.1->cvxpy<2.0.0,>=1.1.10->PyPortfolioOpt) (0.1.5.post2)\n",
      "Requirement already satisfied: python-dateutil>=2.7.3 in c:\\users\\shashwat\\anaconda3\\lib\\site-packages (from pandas>=0.19->PyPortfolioOpt) (2.8.1)\n",
      "Requirement already satisfied: pytz>=2017.3 in c:\\users\\shashwat\\anaconda3\\lib\\site-packages (from pandas>=0.19->PyPortfolioOpt) (2021.1)\n",
      "Requirement already satisfied: six>=1.5 in c:\\users\\shashwat\\anaconda3\\lib\\site-packages (from python-dateutil>=2.7.3->pandas>=0.19->PyPortfolioOpt) (1.15.0)\n",
      "Note: you may need to restart the kernel to use updated packages.\n"
     ]
    }
   ],
   "source": [
    "pip install PyPortfolioOpt"
   ]
  },
  {
   "cell_type": "code",
   "execution_count": 15,
   "id": "9921638c",
   "metadata": {},
   "outputs": [],
   "source": [
    "from pypfopt.efficient_frontier import EfficientFrontier\n",
    "from pypfopt import risk_models\n",
    "from pypfopt import expected_returns"
   ]
  },
  {
   "cell_type": "code",
   "execution_count": 16,
   "id": "80367bfc",
   "metadata": {},
   "outputs": [
    {
     "name": "stdout",
     "output_type": "stream",
     "text": [
      "OrderedDict([('FB', 0.0), ('AMZN', 0.20698), ('AAPL', 0.44892), ('NFLX', 0.16333), ('GOOG', 0.18077)])\n",
      "Expected annual return: 26.0%\n",
      "Annual volatility: 24.6%\n",
      "Sharpe Ratio: 0.97\n"
     ]
    },
    {
     "data": {
      "text/plain": [
       "(0.2595932198150007, 0.24583024125655165, 0.9746287462044108)"
      ]
     },
     "execution_count": 16,
     "metadata": {},
     "output_type": "execute_result"
    }
   ],
   "source": [
    "#Optimising the portfolio\n",
    "#Calculating the expected returns & the annualised sample covariance matrix of asset returns\n",
    "mean = expected_returns.mean_historical_return(df)\n",
    "s = risk_models.sample_cov(df)\n",
    "\n",
    "#Optimising the Sharpe Ratio (risk adjusted return)\n",
    "ef = EfficientFrontier(mean, s)\n",
    "weights = ef.max_sharpe()\n",
    "cleaned_weights = ef.clean_weights()\n",
    "print(cleaned_weights)\n",
    "ef.portfolio_performance(verbose = True)"
   ]
  },
  {
   "cell_type": "code",
   "execution_count": 34,
   "id": "bba00fa5",
   "metadata": {},
   "outputs": [
    {
     "name": "stdout",
     "output_type": "stream",
     "text": [
      "Discrete Allocation: {'AAPL': 48, 'AMZN': 1, 'GOOG': 1, 'NFLX': 13}\n",
      "Funds Remaining: $1635.05\n"
     ]
    }
   ],
   "source": [
    "#Getting the discrete allocation of each share per stock\n",
    "from pypfopt.discrete_allocation import DiscreteAllocation, get_latest_prices\n",
    "\n",
    "latest_prices = get_latest_prices(df)\n",
    "weights = cleaned_weights\n",
    "da = DiscreteAllocation(weights, latest_prices, total_portfolio_value=15000)\n",
    "\n",
    "allocation, leftover = da.greedy_portfolio()\n",
    "print(f'Discrete Allocation: {allocation}')\n",
    "print('Funds Remaining: ${:.2f}'.format(leftover))"
   ]
  }
 ],
 "metadata": {
  "kernelspec": {
   "display_name": "Python 3",
   "language": "python",
   "name": "python3"
  },
  "language_info": {
   "codemirror_mode": {
    "name": "ipython",
    "version": 3
   },
   "file_extension": ".py",
   "mimetype": "text/x-python",
   "name": "python",
   "nbconvert_exporter": "python",
   "pygments_lexer": "ipython3",
   "version": "3.8.8"
  }
 },
 "nbformat": 4,
 "nbformat_minor": 5
}
